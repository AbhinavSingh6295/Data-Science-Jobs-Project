{
 "cells": [
  {
   "cell_type": "code",
   "execution_count": 6,
   "metadata": {},
   "outputs": [
    {
     "data": {
      "text/html": [
       "<div>\n",
       "<style scoped>\n",
       "    .dataframe tbody tr th:only-of-type {\n",
       "        vertical-align: middle;\n",
       "    }\n",
       "\n",
       "    .dataframe tbody tr th {\n",
       "        vertical-align: top;\n",
       "    }\n",
       "\n",
       "    .dataframe thead th {\n",
       "        text-align: right;\n",
       "    }\n",
       "</style>\n",
       "<table border=\"1\" class=\"dataframe\">\n",
       "  <thead>\n",
       "    <tr style=\"text-align: right;\">\n",
       "      <th></th>\n",
       "      <th>Job Title</th>\n",
       "      <th>Salary Estimate</th>\n",
       "      <th>Job Description</th>\n",
       "      <th>Rating</th>\n",
       "      <th>Company Name</th>\n",
       "      <th>Location</th>\n",
       "      <th>Headquarters</th>\n",
       "      <th>Size</th>\n",
       "      <th>Founded</th>\n",
       "      <th>Type of ownership</th>\n",
       "      <th>...</th>\n",
       "      <th>avg_salary</th>\n",
       "      <th>Company_text</th>\n",
       "      <th>job_state</th>\n",
       "      <th>same state</th>\n",
       "      <th>age</th>\n",
       "      <th>python_yn</th>\n",
       "      <th>r_yn</th>\n",
       "      <th>spark_yn</th>\n",
       "      <th>aws_yn</th>\n",
       "      <th>excel_yn</th>\n",
       "    </tr>\n",
       "  </thead>\n",
       "  <tbody>\n",
       "    <tr>\n",
       "      <td>0</td>\n",
       "      <td>Data Scientist</td>\n",
       "      <td>$77K-$92K (Glassdoor Est.)</td>\n",
       "      <td>Data Scientist\\nAffinity Solutions / Marketing...</td>\n",
       "      <td>2.9</td>\n",
       "      <td>Affinity Solutions\\n2.9</td>\n",
       "      <td>New York, NY</td>\n",
       "      <td>New York, NY</td>\n",
       "      <td>51 to 200 employees</td>\n",
       "      <td>1998</td>\n",
       "      <td>Company - Private</td>\n",
       "      <td>...</td>\n",
       "      <td>84.5</td>\n",
       "      <td>Affinity Solution</td>\n",
       "      <td>NY</td>\n",
       "      <td>1</td>\n",
       "      <td>22</td>\n",
       "      <td>1</td>\n",
       "      <td>0</td>\n",
       "      <td>0</td>\n",
       "      <td>0</td>\n",
       "      <td>1</td>\n",
       "    </tr>\n",
       "    <tr>\n",
       "      <td>1</td>\n",
       "      <td>Data Scientist</td>\n",
       "      <td>$77K-$92K (Glassdoor Est.)</td>\n",
       "      <td>Secure our Nation, Ignite your Future\\n\\nSumma...</td>\n",
       "      <td>4.1</td>\n",
       "      <td>ManTech\\n4.1</td>\n",
       "      <td>Chantilly, VA</td>\n",
       "      <td>Herndon, VA</td>\n",
       "      <td>5001 to 10000 employees</td>\n",
       "      <td>1968</td>\n",
       "      <td>Company - Public</td>\n",
       "      <td>...</td>\n",
       "      <td>84.5</td>\n",
       "      <td>ManTec</td>\n",
       "      <td>VA</td>\n",
       "      <td>0</td>\n",
       "      <td>52</td>\n",
       "      <td>0</td>\n",
       "      <td>0</td>\n",
       "      <td>0</td>\n",
       "      <td>0</td>\n",
       "      <td>0</td>\n",
       "    </tr>\n",
       "    <tr>\n",
       "      <td>2</td>\n",
       "      <td>Data Scientist</td>\n",
       "      <td>$77K-$92K (Glassdoor Est.)</td>\n",
       "      <td>By clicking the Apply button, I understand tha...</td>\n",
       "      <td>3.7</td>\n",
       "      <td>Takeda\\n3.7</td>\n",
       "      <td>Cambridge, MA</td>\n",
       "      <td>OSAKA, Japan</td>\n",
       "      <td>10000+ employees</td>\n",
       "      <td>1781</td>\n",
       "      <td>Company - Public</td>\n",
       "      <td>...</td>\n",
       "      <td>84.5</td>\n",
       "      <td>Taked</td>\n",
       "      <td>MA</td>\n",
       "      <td>0</td>\n",
       "      <td>239</td>\n",
       "      <td>1</td>\n",
       "      <td>0</td>\n",
       "      <td>1</td>\n",
       "      <td>0</td>\n",
       "      <td>0</td>\n",
       "    </tr>\n",
       "    <tr>\n",
       "      <td>3</td>\n",
       "      <td>Data Scientist</td>\n",
       "      <td>$77K-$92K (Glassdoor Est.)</td>\n",
       "      <td>Join Our Growing Team\\nA career with A Place f...</td>\n",
       "      <td>3.0</td>\n",
       "      <td>A Place for Mom\\n3.0</td>\n",
       "      <td>Overland Park, KS</td>\n",
       "      <td>New York, NY</td>\n",
       "      <td>501 to 1000 employees</td>\n",
       "      <td>2000</td>\n",
       "      <td>Company - Private</td>\n",
       "      <td>...</td>\n",
       "      <td>84.5</td>\n",
       "      <td>A Place for Mo</td>\n",
       "      <td>KS</td>\n",
       "      <td>0</td>\n",
       "      <td>20</td>\n",
       "      <td>1</td>\n",
       "      <td>0</td>\n",
       "      <td>0</td>\n",
       "      <td>1</td>\n",
       "      <td>1</td>\n",
       "    </tr>\n",
       "    <tr>\n",
       "      <td>4</td>\n",
       "      <td>Data Scientist</td>\n",
       "      <td>$77K-$92K (Glassdoor Est.)</td>\n",
       "      <td>We are looking for Data Scientists who are int...</td>\n",
       "      <td>3.7</td>\n",
       "      <td>GovTech\\n3.7</td>\n",
       "      <td>San Francisco, CA</td>\n",
       "      <td>Singapore, Singapore</td>\n",
       "      <td>1001 to 5000 employees</td>\n",
       "      <td>2016</td>\n",
       "      <td>Government</td>\n",
       "      <td>...</td>\n",
       "      <td>84.5</td>\n",
       "      <td>GovTec</td>\n",
       "      <td>CA</td>\n",
       "      <td>0</td>\n",
       "      <td>4</td>\n",
       "      <td>1</td>\n",
       "      <td>0</td>\n",
       "      <td>0</td>\n",
       "      <td>0</td>\n",
       "      <td>1</td>\n",
       "    </tr>\n",
       "  </tbody>\n",
       "</table>\n",
       "<p>5 rows × 27 columns</p>\n",
       "</div>"
      ],
      "text/plain": [
       "        Job Title             Salary Estimate  \\\n",
       "0  Data Scientist  $77K-$92K (Glassdoor Est.)   \n",
       "1  Data Scientist  $77K-$92K (Glassdoor Est.)   \n",
       "2  Data Scientist  $77K-$92K (Glassdoor Est.)   \n",
       "3  Data Scientist  $77K-$92K (Glassdoor Est.)   \n",
       "4  Data Scientist  $77K-$92K (Glassdoor Est.)   \n",
       "\n",
       "                                     Job Description  Rating  \\\n",
       "0  Data Scientist\\nAffinity Solutions / Marketing...     2.9   \n",
       "1  Secure our Nation, Ignite your Future\\n\\nSumma...     4.1   \n",
       "2  By clicking the Apply button, I understand tha...     3.7   \n",
       "3  Join Our Growing Team\\nA career with A Place f...     3.0   \n",
       "4  We are looking for Data Scientists who are int...     3.7   \n",
       "\n",
       "              Company Name           Location          Headquarters  \\\n",
       "0  Affinity Solutions\\n2.9       New York, NY          New York, NY   \n",
       "1             ManTech\\n4.1      Chantilly, VA           Herndon, VA   \n",
       "2              Takeda\\n3.7      Cambridge, MA          OSAKA, Japan   \n",
       "3     A Place for Mom\\n3.0  Overland Park, KS          New York, NY   \n",
       "4             GovTech\\n3.7  San Francisco, CA  Singapore, Singapore   \n",
       "\n",
       "                      Size  Founded  Type of ownership  ... avg_salary  \\\n",
       "0      51 to 200 employees     1998  Company - Private  ...       84.5   \n",
       "1  5001 to 10000 employees     1968   Company - Public  ...       84.5   \n",
       "2         10000+ employees     1781   Company - Public  ...       84.5   \n",
       "3    501 to 1000 employees     2000  Company - Private  ...       84.5   \n",
       "4   1001 to 5000 employees     2016         Government  ...       84.5   \n",
       "\n",
       "        Company_text job_state same state  age  python_yn  r_yn  spark_yn  \\\n",
       "0  Affinity Solution        NY          1   22          1     0         0   \n",
       "1             ManTec        VA          0   52          0     0         0   \n",
       "2              Taked        MA          0  239          1     0         1   \n",
       "3     A Place for Mo        KS          0   20          1     0         0   \n",
       "4             GovTec        CA          0    4          1     0         0   \n",
       "\n",
       "  aws_yn excel_yn  \n",
       "0      0        1  \n",
       "1      0        0  \n",
       "2      0        0  \n",
       "3      1        1  \n",
       "4      0        1  \n",
       "\n",
       "[5 rows x 27 columns]"
      ]
     },
     "execution_count": 6,
     "metadata": {},
     "output_type": "execute_result"
    }
   ],
   "source": [
    "import pandas as pd\n",
    "table = pd.read_csv('jobs_data_cleaned.csv')\n",
    "table.head()"
   ]
  },
  {
   "cell_type": "code",
   "execution_count": 7,
   "metadata": {},
   "outputs": [
    {
     "data": {
      "text/plain": [
       "Index(['Job Title', 'Salary Estimate', 'Job Description', 'Rating',\n",
       "       'Company Name', 'Location', 'Headquarters', 'Size', 'Founded',\n",
       "       'Type of ownership', 'Industry', 'Sector', 'Revenue', 'Competitors',\n",
       "       'hourly', 'min_salary', 'max_salary', 'avg_salary', 'Company_text',\n",
       "       'job_state', 'same state', 'age', 'python_yn', 'r_yn', 'spark_yn',\n",
       "       'aws_yn', 'excel_yn'],\n",
       "      dtype='object')"
      ]
     },
     "execution_count": 7,
     "metadata": {},
     "output_type": "execute_result"
    }
   ],
   "source": [
    "table.columns"
   ]
  },
  {
   "cell_type": "markdown",
   "metadata": {},
   "source": [
    "### Feature Engineering"
   ]
  },
  {
   "cell_type": "code",
   "execution_count": 8,
   "metadata": {},
   "outputs": [],
   "source": [
    "def title_simplifier(title):\n",
    "    if 'data scientist' in title.lower():\n",
    "        return 'data scientist'\n",
    "    elif 'data engineer' in title.lower():\n",
    "        return 'data engineer'\n",
    "    elif 'analyst' in title.lower():\n",
    "        return 'analyst'\n",
    "    elif 'machine learning' in title.lower():\n",
    "        return 'mle'\n",
    "    elif 'manager' in title.lower():\n",
    "        return 'manager'\n",
    "    elif 'director' in title.lower():\n",
    "        return 'director'\n",
    "    else:\n",
    "        return 'na'\n",
    "    \n",
    "    \n",
    "def seniority(title):\n",
    "    if 'sr' in title.lower() or 'senior' in title.lower() or 'lead' in title.lower() or 'principal' in title.lower() or 'sr.' in title.lower():\n",
    "        return 'senior'\n",
    "    elif 'jr' in title.lower() or 'jr.' in title.lower():\n",
    "        return 'jr'\n",
    "    else:\n",
    "        return 'na'"
   ]
  },
  {
   "cell_type": "code",
   "execution_count": 9,
   "metadata": {},
   "outputs": [
    {
     "data": {
      "text/plain": [
       "data scientist    627\n",
       "na                175\n",
       "data engineer      85\n",
       "analyst            73\n",
       "mle                16\n",
       "manager            12\n",
       "director           12\n",
       "Name: job_simp, dtype: int64"
      ]
     },
     "execution_count": 9,
     "metadata": {},
     "output_type": "execute_result"
    }
   ],
   "source": [
    "# Job title simplified\n",
    "table['job_simp'] = table['Job Title'].apply(title_simplifier)\n",
    "table['job_simp'].value_counts()"
   ]
  },
  {
   "cell_type": "code",
   "execution_count": 10,
   "metadata": {},
   "outputs": [
    {
     "data": {
      "text/plain": [
       "na        847\n",
       "senior    152\n",
       "jr          1\n",
       "Name: seniority, dtype: int64"
      ]
     },
     "execution_count": 10,
     "metadata": {},
     "output_type": "execute_result"
    }
   ],
   "source": [
    "# Seniority Level\n",
    "table['seniority'] = table['Job Title'].apply(seniority)\n",
    "table['seniority'].value_counts()"
   ]
  },
  {
   "cell_type": "code",
   "execution_count": 12,
   "metadata": {},
   "outputs": [
    {
     "data": {
      "text/plain": [
       "CA     218\n",
       "MA      92\n",
       "VA      91\n",
       "NY      78\n",
       "TX      48\n",
       "WA      45\n",
       "IL      41\n",
       "MD      34\n",
       "PA      31\n",
       "CO      27\n",
       "DC      26\n",
       "NC      25\n",
       "OH      21\n",
       "GA      18\n",
       "WI      17\n",
       "MO      17\n",
       "NJ      17\n",
       "NAA     15\n",
       "FL      15\n",
       "TN      14\n",
       "AL      12\n",
       "MI      11\n",
       "MN       9\n",
       "UT       9\n",
       "CT       9\n",
       "NE       8\n",
       "OR       6\n",
       "IN       6\n",
       "AZ       5\n",
       "OK       4\n",
       "RI       4\n",
       "IA       4\n",
       "ID       3\n",
       "KS       3\n",
       "HI       2\n",
       "SC       2\n",
       "KY       2\n",
       "MS       2\n",
       "NV       1\n",
       "ME       1\n",
       "LA       1\n",
       "WV       1\n",
       "NM       1\n",
       "AR       1\n",
       "ND       1\n",
       "NH       1\n",
       "DE       1\n",
       "Name: job_state, dtype: int64"
      ]
     },
     "execution_count": 12,
     "metadata": {},
     "output_type": "execute_result"
    }
   ],
   "source": [
    "# Fix job_state\n",
    "table['job_state'] = table['job_state'].apply(lambda x: x.strip())\n",
    "table['job_state'].value_counts()"
   ]
  },
  {
   "cell_type": "code",
   "execution_count": 13,
   "metadata": {},
   "outputs": [],
   "source": [
    "# Job Description Length\n",
    "table['desc_len'] = table['Job Description'].apply(lambda x: len(x))"
   ]
  },
  {
   "cell_type": "code",
   "execution_count": 15,
   "metadata": {},
   "outputs": [
    {
     "data": {
      "text/plain": [
       "0      36\n",
       "1       0\n",
       "2      24\n",
       "3      56\n",
       "4       0\n",
       "       ..\n",
       "995     0\n",
       "996     0\n",
       "997    11\n",
       "998     0\n",
       "999    25\n",
       "Name: num_comp, Length: 1000, dtype: int64"
      ]
     },
     "execution_count": 15,
     "metadata": {},
     "output_type": "execute_result"
    }
   ],
   "source": [
    "# Count of competitors\n",
    "table['num_comp'] = table['Competitors'].apply(lambda x: len(x.strip(',')) if x != '-1' else 0)\n",
    "table['num_comp']"
   ]
  },
  {
   "cell_type": "code",
   "execution_count": 17,
   "metadata": {},
   "outputs": [],
   "source": [
    "# hourly wage to annual\n",
    "table['min_salary'] = table.apply(lambda x: x.min_salary*2 if x.hourly == 1 else x.min_salary, axis = 1)\n",
    "table['max_salary'] = table.apply(lambda x: x.max_salary*2 if x.hourly == 1 else x.max_salary, axis = 1)"
   ]
  },
  {
   "cell_type": "code",
   "execution_count": 18,
   "metadata": {},
   "outputs": [
    {
     "data": {
      "text/html": [
       "<div>\n",
       "<style scoped>\n",
       "    .dataframe tbody tr th:only-of-type {\n",
       "        vertical-align: middle;\n",
       "    }\n",
       "\n",
       "    .dataframe tbody tr th {\n",
       "        vertical-align: top;\n",
       "    }\n",
       "\n",
       "    .dataframe thead th {\n",
       "        text-align: right;\n",
       "    }\n",
       "</style>\n",
       "<table border=\"1\" class=\"dataframe\">\n",
       "  <thead>\n",
       "    <tr style=\"text-align: right;\">\n",
       "      <th></th>\n",
       "      <th>hourly</th>\n",
       "      <th>min_salary</th>\n",
       "      <th>max_salary</th>\n",
       "    </tr>\n",
       "  </thead>\n",
       "  <tbody>\n",
       "    <tr>\n",
       "      <td>60</td>\n",
       "      <td>1</td>\n",
       "      <td>34</td>\n",
       "      <td>46</td>\n",
       "    </tr>\n",
       "    <tr>\n",
       "      <td>61</td>\n",
       "      <td>1</td>\n",
       "      <td>34</td>\n",
       "      <td>46</td>\n",
       "    </tr>\n",
       "    <tr>\n",
       "      <td>62</td>\n",
       "      <td>1</td>\n",
       "      <td>34</td>\n",
       "      <td>46</td>\n",
       "    </tr>\n",
       "    <tr>\n",
       "      <td>63</td>\n",
       "      <td>1</td>\n",
       "      <td>34</td>\n",
       "      <td>46</td>\n",
       "    </tr>\n",
       "    <tr>\n",
       "      <td>64</td>\n",
       "      <td>1</td>\n",
       "      <td>34</td>\n",
       "      <td>46</td>\n",
       "    </tr>\n",
       "    <tr>\n",
       "      <td>65</td>\n",
       "      <td>1</td>\n",
       "      <td>34</td>\n",
       "      <td>46</td>\n",
       "    </tr>\n",
       "    <tr>\n",
       "      <td>66</td>\n",
       "      <td>1</td>\n",
       "      <td>34</td>\n",
       "      <td>46</td>\n",
       "    </tr>\n",
       "    <tr>\n",
       "      <td>67</td>\n",
       "      <td>1</td>\n",
       "      <td>34</td>\n",
       "      <td>46</td>\n",
       "    </tr>\n",
       "    <tr>\n",
       "      <td>68</td>\n",
       "      <td>1</td>\n",
       "      <td>34</td>\n",
       "      <td>46</td>\n",
       "    </tr>\n",
       "    <tr>\n",
       "      <td>69</td>\n",
       "      <td>1</td>\n",
       "      <td>34</td>\n",
       "      <td>46</td>\n",
       "    </tr>\n",
       "    <tr>\n",
       "      <td>70</td>\n",
       "      <td>1</td>\n",
       "      <td>34</td>\n",
       "      <td>46</td>\n",
       "    </tr>\n",
       "    <tr>\n",
       "      <td>71</td>\n",
       "      <td>1</td>\n",
       "      <td>34</td>\n",
       "      <td>46</td>\n",
       "    </tr>\n",
       "    <tr>\n",
       "      <td>72</td>\n",
       "      <td>1</td>\n",
       "      <td>34</td>\n",
       "      <td>46</td>\n",
       "    </tr>\n",
       "    <tr>\n",
       "      <td>73</td>\n",
       "      <td>1</td>\n",
       "      <td>34</td>\n",
       "      <td>46</td>\n",
       "    </tr>\n",
       "    <tr>\n",
       "      <td>74</td>\n",
       "      <td>1</td>\n",
       "      <td>34</td>\n",
       "      <td>46</td>\n",
       "    </tr>\n",
       "    <tr>\n",
       "      <td>75</td>\n",
       "      <td>1</td>\n",
       "      <td>34</td>\n",
       "      <td>46</td>\n",
       "    </tr>\n",
       "    <tr>\n",
       "      <td>76</td>\n",
       "      <td>1</td>\n",
       "      <td>34</td>\n",
       "      <td>46</td>\n",
       "    </tr>\n",
       "    <tr>\n",
       "      <td>77</td>\n",
       "      <td>1</td>\n",
       "      <td>34</td>\n",
       "      <td>46</td>\n",
       "    </tr>\n",
       "    <tr>\n",
       "      <td>78</td>\n",
       "      <td>1</td>\n",
       "      <td>34</td>\n",
       "      <td>46</td>\n",
       "    </tr>\n",
       "    <tr>\n",
       "      <td>79</td>\n",
       "      <td>1</td>\n",
       "      <td>34</td>\n",
       "      <td>46</td>\n",
       "    </tr>\n",
       "    <tr>\n",
       "      <td>80</td>\n",
       "      <td>1</td>\n",
       "      <td>34</td>\n",
       "      <td>46</td>\n",
       "    </tr>\n",
       "    <tr>\n",
       "      <td>81</td>\n",
       "      <td>1</td>\n",
       "      <td>34</td>\n",
       "      <td>46</td>\n",
       "    </tr>\n",
       "    <tr>\n",
       "      <td>82</td>\n",
       "      <td>1</td>\n",
       "      <td>34</td>\n",
       "      <td>46</td>\n",
       "    </tr>\n",
       "    <tr>\n",
       "      <td>83</td>\n",
       "      <td>1</td>\n",
       "      <td>34</td>\n",
       "      <td>46</td>\n",
       "    </tr>\n",
       "    <tr>\n",
       "      <td>84</td>\n",
       "      <td>1</td>\n",
       "      <td>34</td>\n",
       "      <td>46</td>\n",
       "    </tr>\n",
       "    <tr>\n",
       "      <td>85</td>\n",
       "      <td>1</td>\n",
       "      <td>34</td>\n",
       "      <td>46</td>\n",
       "    </tr>\n",
       "    <tr>\n",
       "      <td>86</td>\n",
       "      <td>1</td>\n",
       "      <td>34</td>\n",
       "      <td>46</td>\n",
       "    </tr>\n",
       "    <tr>\n",
       "      <td>87</td>\n",
       "      <td>1</td>\n",
       "      <td>34</td>\n",
       "      <td>46</td>\n",
       "    </tr>\n",
       "    <tr>\n",
       "      <td>88</td>\n",
       "      <td>1</td>\n",
       "      <td>34</td>\n",
       "      <td>46</td>\n",
       "    </tr>\n",
       "    <tr>\n",
       "      <td>89</td>\n",
       "      <td>1</td>\n",
       "      <td>34</td>\n",
       "      <td>46</td>\n",
       "    </tr>\n",
       "  </tbody>\n",
       "</table>\n",
       "</div>"
      ],
      "text/plain": [
       "    hourly  min_salary  max_salary\n",
       "60       1          34          46\n",
       "61       1          34          46\n",
       "62       1          34          46\n",
       "63       1          34          46\n",
       "64       1          34          46\n",
       "65       1          34          46\n",
       "66       1          34          46\n",
       "67       1          34          46\n",
       "68       1          34          46\n",
       "69       1          34          46\n",
       "70       1          34          46\n",
       "71       1          34          46\n",
       "72       1          34          46\n",
       "73       1          34          46\n",
       "74       1          34          46\n",
       "75       1          34          46\n",
       "76       1          34          46\n",
       "77       1          34          46\n",
       "78       1          34          46\n",
       "79       1          34          46\n",
       "80       1          34          46\n",
       "81       1          34          46\n",
       "82       1          34          46\n",
       "83       1          34          46\n",
       "84       1          34          46\n",
       "85       1          34          46\n",
       "86       1          34          46\n",
       "87       1          34          46\n",
       "88       1          34          46\n",
       "89       1          34          46"
      ]
     },
     "execution_count": 18,
     "metadata": {},
     "output_type": "execute_result"
    }
   ],
   "source": [
    "table[table['hourly']==1][['hourly', 'min_salary', 'max_salary']]"
   ]
  },
  {
   "cell_type": "code",
   "execution_count": 21,
   "metadata": {},
   "outputs": [
    {
     "data": {
      "text/plain": [
       "0      Affinity Solution\n",
       "1                 ManTec\n",
       "2                  Taked\n",
       "3         A Place for Mo\n",
       "4                 GovTec\n",
       "             ...        \n",
       "995          Shelf Engin\n",
       "996           Wells Farg\n",
       "997            Fannie Ma\n",
       "998    XSELL Technologie\n",
       "999                NYSTE\n",
       "Name: Company_text, Length: 1000, dtype: object"
      ]
     },
     "execution_count": 21,
     "metadata": {},
     "output_type": "execute_result"
    }
   ],
   "source": [
    "table['Company_text']"
   ]
  },
  {
   "cell_type": "code",
   "execution_count": 22,
   "metadata": {},
   "outputs": [
    {
     "data": {
      "text/html": [
       "<div>\n",
       "<style scoped>\n",
       "    .dataframe tbody tr th:only-of-type {\n",
       "        vertical-align: middle;\n",
       "    }\n",
       "\n",
       "    .dataframe tbody tr th {\n",
       "        vertical-align: top;\n",
       "    }\n",
       "\n",
       "    .dataframe thead th {\n",
       "        text-align: right;\n",
       "    }\n",
       "</style>\n",
       "<table border=\"1\" class=\"dataframe\">\n",
       "  <thead>\n",
       "    <tr style=\"text-align: right;\">\n",
       "      <th></th>\n",
       "      <th>Rating</th>\n",
       "      <th>Founded</th>\n",
       "      <th>hourly</th>\n",
       "      <th>min_salary</th>\n",
       "      <th>max_salary</th>\n",
       "      <th>avg_salary</th>\n",
       "      <th>same state</th>\n",
       "      <th>age</th>\n",
       "      <th>python_yn</th>\n",
       "      <th>r_yn</th>\n",
       "      <th>spark_yn</th>\n",
       "      <th>aws_yn</th>\n",
       "      <th>excel_yn</th>\n",
       "      <th>desc_len</th>\n",
       "      <th>num_comp</th>\n",
       "    </tr>\n",
       "  </thead>\n",
       "  <tbody>\n",
       "    <tr>\n",
       "      <td>count</td>\n",
       "      <td>1000.000000</td>\n",
       "      <td>1000.000000</td>\n",
       "      <td>1000.000000</td>\n",
       "      <td>1000.000000</td>\n",
       "      <td>1000.000000</td>\n",
       "      <td>1000.000000</td>\n",
       "      <td>1000.000000</td>\n",
       "      <td>1000.000000</td>\n",
       "      <td>1000.000000</td>\n",
       "      <td>1000.000000</td>\n",
       "      <td>1000.000000</td>\n",
       "      <td>1000.000000</td>\n",
       "      <td>1000.000000</td>\n",
       "      <td>1000.000000</td>\n",
       "      <td>1000.000000</td>\n",
       "    </tr>\n",
       "    <tr>\n",
       "      <td>mean</td>\n",
       "      <td>3.581300</td>\n",
       "      <td>1650.801000</td>\n",
       "      <td>0.030000</td>\n",
       "      <td>83.550000</td>\n",
       "      <td>121.290000</td>\n",
       "      <td>101.820000</td>\n",
       "      <td>0.424000</td>\n",
       "      <td>31.525000</td>\n",
       "      <td>0.662000</td>\n",
       "      <td>0.003000</td>\n",
       "      <td>0.238000</td>\n",
       "      <td>0.239000</td>\n",
       "      <td>0.411000</td>\n",
       "      <td>3573.130000</td>\n",
       "      <td>10.038000</td>\n",
       "    </tr>\n",
       "    <tr>\n",
       "      <td>std</td>\n",
       "      <td>1.323818</td>\n",
       "      <td>741.158672</td>\n",
       "      <td>0.170673</td>\n",
       "      <td>24.945737</td>\n",
       "      <td>32.864052</td>\n",
       "      <td>29.383516</td>\n",
       "      <td>0.494438</td>\n",
       "      <td>44.513355</td>\n",
       "      <td>0.473265</td>\n",
       "      <td>0.054717</td>\n",
       "      <td>0.426072</td>\n",
       "      <td>0.426686</td>\n",
       "      <td>0.492261</td>\n",
       "      <td>1802.620357</td>\n",
       "      <td>17.724184</td>\n",
       "    </tr>\n",
       "    <tr>\n",
       "      <td>min</td>\n",
       "      <td>-1.000000</td>\n",
       "      <td>-1.000000</td>\n",
       "      <td>0.000000</td>\n",
       "      <td>34.000000</td>\n",
       "      <td>46.000000</td>\n",
       "      <td>20.000000</td>\n",
       "      <td>0.000000</td>\n",
       "      <td>-1.000000</td>\n",
       "      <td>0.000000</td>\n",
       "      <td>0.000000</td>\n",
       "      <td>0.000000</td>\n",
       "      <td>0.000000</td>\n",
       "      <td>0.000000</td>\n",
       "      <td>132.000000</td>\n",
       "      <td>0.000000</td>\n",
       "    </tr>\n",
       "    <tr>\n",
       "      <td>25%</td>\n",
       "      <td>3.400000</td>\n",
       "      <td>1920.750000</td>\n",
       "      <td>0.000000</td>\n",
       "      <td>68.000000</td>\n",
       "      <td>101.000000</td>\n",
       "      <td>89.500000</td>\n",
       "      <td>0.000000</td>\n",
       "      <td>6.000000</td>\n",
       "      <td>0.000000</td>\n",
       "      <td>0.000000</td>\n",
       "      <td>0.000000</td>\n",
       "      <td>0.000000</td>\n",
       "      <td>0.000000</td>\n",
       "      <td>2403.750000</td>\n",
       "      <td>0.000000</td>\n",
       "    </tr>\n",
       "    <tr>\n",
       "      <td>50%</td>\n",
       "      <td>3.800000</td>\n",
       "      <td>1995.000000</td>\n",
       "      <td>0.000000</td>\n",
       "      <td>83.000000</td>\n",
       "      <td>121.000000</td>\n",
       "      <td>99.500000</td>\n",
       "      <td>0.000000</td>\n",
       "      <td>17.000000</td>\n",
       "      <td>1.000000</td>\n",
       "      <td>0.000000</td>\n",
       "      <td>0.000000</td>\n",
       "      <td>0.000000</td>\n",
       "      <td>0.000000</td>\n",
       "      <td>3352.500000</td>\n",
       "      <td>0.000000</td>\n",
       "    </tr>\n",
       "    <tr>\n",
       "      <td>75%</td>\n",
       "      <td>4.300000</td>\n",
       "      <td>2008.000000</td>\n",
       "      <td>0.000000</td>\n",
       "      <td>105.000000</td>\n",
       "      <td>138.000000</td>\n",
       "      <td>121.500000</td>\n",
       "      <td>1.000000</td>\n",
       "      <td>34.000000</td>\n",
       "      <td>1.000000</td>\n",
       "      <td>0.000000</td>\n",
       "      <td>0.000000</td>\n",
       "      <td>0.000000</td>\n",
       "      <td>1.000000</td>\n",
       "      <td>4486.000000</td>\n",
       "      <td>21.000000</td>\n",
       "    </tr>\n",
       "    <tr>\n",
       "      <td>max</td>\n",
       "      <td>5.000000</td>\n",
       "      <td>2019.000000</td>\n",
       "      <td>1.000000</td>\n",
       "      <td>139.000000</td>\n",
       "      <td>229.000000</td>\n",
       "      <td>184.000000</td>\n",
       "      <td>1.000000</td>\n",
       "      <td>330.000000</td>\n",
       "      <td>1.000000</td>\n",
       "      <td>1.000000</td>\n",
       "      <td>1.000000</td>\n",
       "      <td>1.000000</td>\n",
       "      <td>1.000000</td>\n",
       "      <td>18555.000000</td>\n",
       "      <td>92.000000</td>\n",
       "    </tr>\n",
       "  </tbody>\n",
       "</table>\n",
       "</div>"
      ],
      "text/plain": [
       "            Rating      Founded       hourly   min_salary   max_salary  \\\n",
       "count  1000.000000  1000.000000  1000.000000  1000.000000  1000.000000   \n",
       "mean      3.581300  1650.801000     0.030000    83.550000   121.290000   \n",
       "std       1.323818   741.158672     0.170673    24.945737    32.864052   \n",
       "min      -1.000000    -1.000000     0.000000    34.000000    46.000000   \n",
       "25%       3.400000  1920.750000     0.000000    68.000000   101.000000   \n",
       "50%       3.800000  1995.000000     0.000000    83.000000   121.000000   \n",
       "75%       4.300000  2008.000000     0.000000   105.000000   138.000000   \n",
       "max       5.000000  2019.000000     1.000000   139.000000   229.000000   \n",
       "\n",
       "        avg_salary   same state          age    python_yn         r_yn  \\\n",
       "count  1000.000000  1000.000000  1000.000000  1000.000000  1000.000000   \n",
       "mean    101.820000     0.424000    31.525000     0.662000     0.003000   \n",
       "std      29.383516     0.494438    44.513355     0.473265     0.054717   \n",
       "min      20.000000     0.000000    -1.000000     0.000000     0.000000   \n",
       "25%      89.500000     0.000000     6.000000     0.000000     0.000000   \n",
       "50%      99.500000     0.000000    17.000000     1.000000     0.000000   \n",
       "75%     121.500000     1.000000    34.000000     1.000000     0.000000   \n",
       "max     184.000000     1.000000   330.000000     1.000000     1.000000   \n",
       "\n",
       "          spark_yn       aws_yn     excel_yn      desc_len     num_comp  \n",
       "count  1000.000000  1000.000000  1000.000000   1000.000000  1000.000000  \n",
       "mean      0.238000     0.239000     0.411000   3573.130000    10.038000  \n",
       "std       0.426072     0.426686     0.492261   1802.620357    17.724184  \n",
       "min       0.000000     0.000000     0.000000    132.000000     0.000000  \n",
       "25%       0.000000     0.000000     0.000000   2403.750000     0.000000  \n",
       "50%       0.000000     0.000000     0.000000   3352.500000     0.000000  \n",
       "75%       0.000000     0.000000     1.000000   4486.000000    21.000000  \n",
       "max       1.000000     1.000000     1.000000  18555.000000    92.000000  "
      ]
     },
     "execution_count": 22,
     "metadata": {},
     "output_type": "execute_result"
    }
   ],
   "source": [
    "table.describe()"
   ]
  },
  {
   "cell_type": "markdown",
   "metadata": {},
   "source": [
    "### Univariate Analysis"
   ]
  },
  {
   "cell_type": "code",
   "execution_count": 25,
   "metadata": {},
   "outputs": [
    {
     "data": {
      "image/png": "[encoded data removed]",
      "text/plain": [
       "<Figure size 432x288 with 1 Axes>"
      ]
     },
     "metadata": {
      "needs_background": "light"
     },
     "output_type": "display_data"
    }
   ],
   "source": [
    "import matplotlib.pyplot as plt\n",
    "import seaborn as sns\n",
    "table['Rating'].hist();"
   ]
  },
  {
   "cell_type": "code",
   "execution_count": 26,
   "metadata": {},
   "outputs": [
    {
     "data": {
      "image/png": "[encoded data removed]",
      "text/plain": [
       "<Figure size 432x288 with 1 Axes>"
      ]
     },
     "metadata": {
      "needs_background": "light"
     },
     "output_type": "display_data"
    }
   ],
   "source": [
    "table['avg_salary'].hist();"
   ]
  },
  {
   "cell_type": "code",
   "execution_count": 27,
   "metadata": {},
   "outputs": [
    {
     "data": {
      "image/png": "[encoded data removed]",
      "text/plain": [
       "<Figure size 432x288 with 1 Axes>"
      ]
     },
     "metadata": {
      "needs_background": "light"
     },
     "output_type": "display_data"
    }
   ],
   "source": [
    "table['age'].hist();"
   ]
  },
  {
   "cell_type": "code",
   "execution_count": 29,
   "metadata": {},
   "outputs": [
    {
     "data": {
      "text/plain": [
       "Index(['Job Title', 'Salary Estimate', 'Job Description', 'Rating',\n",
       "       'Company Name', 'Location', 'Headquarters', 'Size', 'Founded',\n",
       "       'Type of ownership', 'Industry', 'Sector', 'Revenue', 'Competitors',\n",
       "       'hourly', 'min_salary', 'max_salary', 'avg_salary', 'Company_text',\n",
       "       'job_state', 'same state', 'age', 'python_yn', 'r_yn', 'spark_yn',\n",
       "       'aws_yn', 'excel_yn', 'job_simp', 'seniority', 'desc_len', 'num_comp'],\n",
       "      dtype='object')"
      ]
     },
     "execution_count": 29,
     "metadata": {},
     "output_type": "execute_result"
    }
   ],
   "source": [
    "table.columns"
   ]
  },
  {
   "cell_type": "code",
   "execution_count": 30,
   "metadata": {},
   "outputs": [
    {
     "data": {
      "image/png": "[encoded data removed]",
      "text/plain": [
       "<Figure size 432x288 with 1 Axes>"
      ]
     },
     "metadata": {
      "needs_background": "light"
     },
     "output_type": "display_data"
    }
   ],
   "source": [
    "table['desc_len'].hist();"
   ]
  },
  {
   "cell_type": "code",
   "execution_count": 33,
   "metadata": {},
   "outputs": [
    {
     "data": {
      "text/plain": [
       "<matplotlib.axes._subplots.AxesSubplot at 0x282fbf87c88>"
      ]
     },
     "execution_count": 33,
     "metadata": {},
     "output_type": "execute_result"
    },
    {
     "data": {
      "image/png": "[encoded data removed]",
      "text/plain": [
       "<Figure size 432x288 with 1 Axes>"
      ]
     },
     "metadata": {
      "needs_background": "light"
     },
     "output_type": "display_data"
    }
   ],
   "source": [
    "table.boxplot(column = ['age','Rating', 'avg_salary'])"
   ]
  },
  {
   "cell_type": "code",
   "execution_count": null,
   "metadata": {},
   "outputs": [],
   "source": []
  }
 ],
 "metadata": {
  "kernelspec": {
   "display_name": "Python 3",
   "language": "python",
   "name": "python3"
  },
  "language_info": {
   "codemirror_mode": {
    "name": "ipython",
    "version": 3
   },
   "file_extension": ".py",
   "mimetype": "text/x-python",
   "name": "python",
   "nbconvert_exporter": "python",
   "pygments_lexer": "ipython3",
   "version": "3.7.4"
  }
 },
 "nbformat": 4,
 "nbformat_minor": 2
}
