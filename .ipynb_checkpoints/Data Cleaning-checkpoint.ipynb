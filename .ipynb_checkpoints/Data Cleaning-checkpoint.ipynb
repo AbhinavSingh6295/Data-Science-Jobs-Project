{
 "cells": [
  {
   "cell_type": "code",
   "execution_count": 1,
   "metadata": {},
   "outputs": [],
   "source": [
    "import os\n",
    "os.chdir('C:/Users/Abhinav Singh/OneDrive/Desktop/GitHub Project/Data Science Jobs Project')"
   ]
  },
  {
   "cell_type": "code",
   "execution_count": 2,
   "metadata": {},
   "outputs": [
    {
     "data": {
      "text/html": [
       "<div>\n",
       "<style scoped>\n",
       "    .dataframe tbody tr th:only-of-type {\n",
       "        vertical-align: middle;\n",
       "    }\n",
       "\n",
       "    .dataframe tbody tr th {\n",
       "        vertical-align: top;\n",
       "    }\n",
       "\n",
       "    .dataframe thead th {\n",
       "        text-align: right;\n",
       "    }\n",
       "</style>\n",
       "<table border=\"1\" class=\"dataframe\">\n",
       "  <thead>\n",
       "    <tr style=\"text-align: right;\">\n",
       "      <th></th>\n",
       "      <th>Job Title</th>\n",
       "      <th>Salary Estimate</th>\n",
       "      <th>Job Description</th>\n",
       "      <th>Rating</th>\n",
       "      <th>Company Name</th>\n",
       "      <th>Location</th>\n",
       "      <th>Headquarters</th>\n",
       "      <th>Size</th>\n",
       "      <th>Founded</th>\n",
       "      <th>Type of ownership</th>\n",
       "      <th>Industry</th>\n",
       "      <th>Sector</th>\n",
       "      <th>Revenue</th>\n",
       "      <th>Competitors</th>\n",
       "    </tr>\n",
       "  </thead>\n",
       "  <tbody>\n",
       "    <tr>\n",
       "      <td>0</td>\n",
       "      <td>Data Scientist</td>\n",
       "      <td>$77K-$92K (Glassdoor Est.)</td>\n",
       "      <td>Data Scientist\\nAffinity Solutions / Marketing...</td>\n",
       "      <td>2.9</td>\n",
       "      <td>Affinity Solutions\\n2.9</td>\n",
       "      <td>New York, NY</td>\n",
       "      <td>New York, NY</td>\n",
       "      <td>51 to 200 employees</td>\n",
       "      <td>1998</td>\n",
       "      <td>Company - Private</td>\n",
       "      <td>Advertising &amp; Marketing</td>\n",
       "      <td>Business Services</td>\n",
       "      <td>Unknown / Non-Applicable</td>\n",
       "      <td>Commerce Signals, Cardlytics, Yodlee</td>\n",
       "    </tr>\n",
       "    <tr>\n",
       "      <td>1</td>\n",
       "      <td>Data Scientist</td>\n",
       "      <td>$77K-$92K (Glassdoor Est.)</td>\n",
       "      <td>Secure our Nation, Ignite your Future\\n\\nSumma...</td>\n",
       "      <td>4.1</td>\n",
       "      <td>ManTech\\n4.1</td>\n",
       "      <td>Chantilly, VA</td>\n",
       "      <td>Herndon, VA</td>\n",
       "      <td>5001 to 10000 employees</td>\n",
       "      <td>1968</td>\n",
       "      <td>Company - Public</td>\n",
       "      <td>Research &amp; Development</td>\n",
       "      <td>Business Services</td>\n",
       "      <td>₹100 to ₹500 billion (INR)</td>\n",
       "      <td>-1</td>\n",
       "    </tr>\n",
       "    <tr>\n",
       "      <td>2</td>\n",
       "      <td>Data Scientist</td>\n",
       "      <td>$77K-$92K (Glassdoor Est.)</td>\n",
       "      <td>By clicking the Apply button, I understand tha...</td>\n",
       "      <td>3.7</td>\n",
       "      <td>Takeda\\n3.7</td>\n",
       "      <td>Cambridge, MA</td>\n",
       "      <td>OSAKA, Japan</td>\n",
       "      <td>10000+ employees</td>\n",
       "      <td>1781</td>\n",
       "      <td>Company - Public</td>\n",
       "      <td>Biotech &amp; Pharmaceuticals</td>\n",
       "      <td>Biotech &amp; Pharmaceuticals</td>\n",
       "      <td>₹500+ billion (INR)</td>\n",
       "      <td>Novartis, Baxter, Pfizer</td>\n",
       "    </tr>\n",
       "    <tr>\n",
       "      <td>3</td>\n",
       "      <td>Data Scientist</td>\n",
       "      <td>$77K-$92K (Glassdoor Est.)</td>\n",
       "      <td>Join Our Growing Team\\nA career with A Place f...</td>\n",
       "      <td>3.0</td>\n",
       "      <td>A Place for Mom\\n3.0</td>\n",
       "      <td>Overland Park, KS</td>\n",
       "      <td>New York, NY</td>\n",
       "      <td>501 to 1000 employees</td>\n",
       "      <td>2000</td>\n",
       "      <td>Company - Private</td>\n",
       "      <td>Healthcare Services &amp; Hospitals</td>\n",
       "      <td>Healthcare</td>\n",
       "      <td>Unknown / Non-Applicable</td>\n",
       "      <td>Enlivant, Sunrise Senior Living, Brookdale Sen...</td>\n",
       "    </tr>\n",
       "    <tr>\n",
       "      <td>4</td>\n",
       "      <td>Data Scientist</td>\n",
       "      <td>$77K-$92K (Glassdoor Est.)</td>\n",
       "      <td>We are looking for Data Scientists who are int...</td>\n",
       "      <td>3.7</td>\n",
       "      <td>GovTech\\n3.7</td>\n",
       "      <td>San Francisco, CA</td>\n",
       "      <td>Singapore, Singapore</td>\n",
       "      <td>1001 to 5000 employees</td>\n",
       "      <td>2016</td>\n",
       "      <td>Government</td>\n",
       "      <td>Government Agencies</td>\n",
       "      <td>Government</td>\n",
       "      <td>Unknown / Non-Applicable</td>\n",
       "      <td>-1</td>\n",
       "    </tr>\n",
       "  </tbody>\n",
       "</table>\n",
       "</div>"
      ],
      "text/plain": [
       "        Job Title             Salary Estimate  \\\n",
       "0  Data Scientist  $77K-$92K (Glassdoor Est.)   \n",
       "1  Data Scientist  $77K-$92K (Glassdoor Est.)   \n",
       "2  Data Scientist  $77K-$92K (Glassdoor Est.)   \n",
       "3  Data Scientist  $77K-$92K (Glassdoor Est.)   \n",
       "4  Data Scientist  $77K-$92K (Glassdoor Est.)   \n",
       "\n",
       "                                     Job Description  Rating  \\\n",
       "0  Data Scientist\\nAffinity Solutions / Marketing...     2.9   \n",
       "1  Secure our Nation, Ignite your Future\\n\\nSumma...     4.1   \n",
       "2  By clicking the Apply button, I understand tha...     3.7   \n",
       "3  Join Our Growing Team\\nA career with A Place f...     3.0   \n",
       "4  We are looking for Data Scientists who are int...     3.7   \n",
       "\n",
       "              Company Name           Location          Headquarters  \\\n",
       "0  Affinity Solutions\\n2.9       New York, NY          New York, NY   \n",
       "1             ManTech\\n4.1      Chantilly, VA           Herndon, VA   \n",
       "2              Takeda\\n3.7      Cambridge, MA          OSAKA, Japan   \n",
       "3     A Place for Mom\\n3.0  Overland Park, KS          New York, NY   \n",
       "4             GovTech\\n3.7  San Francisco, CA  Singapore, Singapore   \n",
       "\n",
       "                      Size  Founded  Type of ownership  \\\n",
       "0      51 to 200 employees     1998  Company - Private   \n",
       "1  5001 to 10000 employees     1968   Company - Public   \n",
       "2         10000+ employees     1781   Company - Public   \n",
       "3    501 to 1000 employees     2000  Company - Private   \n",
       "4   1001 to 5000 employees     2016         Government   \n",
       "\n",
       "                          Industry                     Sector  \\\n",
       "0          Advertising & Marketing          Business Services   \n",
       "1           Research & Development          Business Services   \n",
       "2        Biotech & Pharmaceuticals  Biotech & Pharmaceuticals   \n",
       "3  Healthcare Services & Hospitals                 Healthcare   \n",
       "4              Government Agencies                 Government   \n",
       "\n",
       "                      Revenue  \\\n",
       "0    Unknown / Non-Applicable   \n",
       "1  ₹100 to ₹500 billion (INR)   \n",
       "2         ₹500+ billion (INR)   \n",
       "3    Unknown / Non-Applicable   \n",
       "4    Unknown / Non-Applicable   \n",
       "\n",
       "                                         Competitors  \n",
       "0               Commerce Signals, Cardlytics, Yodlee  \n",
       "1                                                 -1  \n",
       "2                           Novartis, Baxter, Pfizer  \n",
       "3  Enlivant, Sunrise Senior Living, Brookdale Sen...  \n",
       "4                                                 -1  "
      ]
     },
     "execution_count": 2,
     "metadata": {},
     "output_type": "execute_result"
    }
   ],
   "source": [
    "import pandas as pd\n",
    "table = pd.read_csv('glassdoor_jobs.csv')\n",
    "table.head()"
   ]
  },
  {
   "cell_type": "code",
   "execution_count": 4,
   "metadata": {},
   "outputs": [
    {
     "name": "stdout",
     "output_type": "stream",
     "text": [
      "(1000, 14)\n",
      "(1000, 14)\n"
     ]
    }
   ],
   "source": [
    "# Cleaning 'Salary Estimate\n",
    "table = table[table['Salary Estimate'] != '-1']\n",
    "#print (table.shape)"
   ]
  },
  {
   "cell_type": "code",
   "execution_count": 5,
   "metadata": {},
   "outputs": [
    {
     "data": {
      "text/plain": [
       "0    $77K-$92K \n",
       "1    $77K-$92K \n",
       "2    $77K-$92K \n",
       "3    $77K-$92K \n",
       "4    $77K-$92K \n",
       "Name: Salary Estimate, dtype: object"
      ]
     },
     "execution_count": 5,
     "metadata": {},
     "output_type": "execute_result"
    }
   ],
   "source": [
    "salary = table['Salary Estimate'].apply(lambda x: x.split('(')[0])\n",
    "salary[0:5]"
   ]
  },
  {
   "cell_type": "code",
   "execution_count": 6,
   "metadata": {},
   "outputs": [
    {
     "data": {
      "text/plain": [
       "0    77-92 \n",
       "1    77-92 \n",
       "2    77-92 \n",
       "3    77-92 \n",
       "4    77-92 \n",
       "Name: Salary Estimate, dtype: object"
      ]
     },
     "execution_count": 6,
     "metadata": {},
     "output_type": "execute_result"
    }
   ],
   "source": [
    "minus_Kd = salary.apply(lambda x: x.replace('K','').replace('$',''))\n",
    "minus_Kd[0:5]"
   ]
  },
  {
   "cell_type": "code",
   "execution_count": 7,
   "metadata": {},
   "outputs": [],
   "source": [
    "table['hourly'] = table['Salary Estimate'].apply(lambda x: 1 if 'per hour' in x.lower() else 0)"
   ]
  },
  {
   "cell_type": "code",
   "execution_count": 9,
   "metadata": {},
   "outputs": [],
   "source": [
    "#table.head()\n",
    "min_hr = minus_Kd.apply(lambda x: x.lower().replace('per hour',''))"
   ]
  },
  {
   "cell_type": "code",
   "execution_count": 14,
   "metadata": {},
   "outputs": [],
   "source": [
    "table['min_salary'] = min_hr.apply(lambda x: int(x.split('-')[0]))\n",
    "table['max_salary'] = min_hr.apply(lambda x: int(x.split('-')[1]))"
   ]
  },
  {
   "cell_type": "code",
   "execution_count": 16,
   "metadata": {},
   "outputs": [],
   "source": [
    "#table.tail()\n",
    "#table['min_salary'].dtype\n",
    "table['avg_salary'] = (table['min_salary'] + table.max_salary) / 2"
   ]
  },
  {
   "cell_type": "code",
   "execution_count": 47,
   "metadata": {},
   "outputs": [
    {
     "data": {
      "text/html": [
       "<div>\n",
       "<style scoped>\n",
       "    .dataframe tbody tr th:only-of-type {\n",
       "        vertical-align: middle;\n",
       "    }\n",
       "\n",
       "    .dataframe tbody tr th {\n",
       "        vertical-align: top;\n",
       "    }\n",
       "\n",
       "    .dataframe thead th {\n",
       "        text-align: right;\n",
       "    }\n",
       "</style>\n",
       "<table border=\"1\" class=\"dataframe\">\n",
       "  <thead>\n",
       "    <tr style=\"text-align: right;\">\n",
       "      <th></th>\n",
       "      <th>Job Title</th>\n",
       "      <th>Salary Estimate</th>\n",
       "      <th>Job Description</th>\n",
       "      <th>Rating</th>\n",
       "      <th>Company Name</th>\n",
       "      <th>Location</th>\n",
       "      <th>Headquarters</th>\n",
       "      <th>Size</th>\n",
       "      <th>Founded</th>\n",
       "      <th>Type of ownership</th>\n",
       "      <th>...</th>\n",
       "      <th>avg_salary</th>\n",
       "      <th>Company_text</th>\n",
       "      <th>job_state</th>\n",
       "      <th>same state</th>\n",
       "      <th>age</th>\n",
       "      <th>python_yn</th>\n",
       "      <th>r_yn</th>\n",
       "      <th>spark_yn</th>\n",
       "      <th>aws_yn</th>\n",
       "      <th>excel_yn</th>\n",
       "    </tr>\n",
       "  </thead>\n",
       "  <tbody>\n",
       "    <tr>\n",
       "      <td>0</td>\n",
       "      <td>Data Scientist</td>\n",
       "      <td>$77K-$92K (Glassdoor Est.)</td>\n",
       "      <td>Data Scientist\\nAffinity Solutions / Marketing...</td>\n",
       "      <td>2.9</td>\n",
       "      <td>Affinity Solutions\\n2.9</td>\n",
       "      <td>New York, NY</td>\n",
       "      <td>New York, NY</td>\n",
       "      <td>51 to 200 employees</td>\n",
       "      <td>1998</td>\n",
       "      <td>Company - Private</td>\n",
       "      <td>...</td>\n",
       "      <td>84.5</td>\n",
       "      <td>Affinity Solution</td>\n",
       "      <td>NY</td>\n",
       "      <td>1</td>\n",
       "      <td>22</td>\n",
       "      <td>1</td>\n",
       "      <td>0</td>\n",
       "      <td>0</td>\n",
       "      <td>0</td>\n",
       "      <td>1</td>\n",
       "    </tr>\n",
       "    <tr>\n",
       "      <td>1</td>\n",
       "      <td>Data Scientist</td>\n",
       "      <td>$77K-$92K (Glassdoor Est.)</td>\n",
       "      <td>Secure our Nation, Ignite your Future\\n\\nSumma...</td>\n",
       "      <td>4.1</td>\n",
       "      <td>ManTech\\n4.1</td>\n",
       "      <td>Chantilly, VA</td>\n",
       "      <td>Herndon, VA</td>\n",
       "      <td>5001 to 10000 employees</td>\n",
       "      <td>1968</td>\n",
       "      <td>Company - Public</td>\n",
       "      <td>...</td>\n",
       "      <td>84.5</td>\n",
       "      <td>ManTec</td>\n",
       "      <td>VA</td>\n",
       "      <td>0</td>\n",
       "      <td>52</td>\n",
       "      <td>0</td>\n",
       "      <td>0</td>\n",
       "      <td>0</td>\n",
       "      <td>0</td>\n",
       "      <td>0</td>\n",
       "    </tr>\n",
       "    <tr>\n",
       "      <td>2</td>\n",
       "      <td>Data Scientist</td>\n",
       "      <td>$77K-$92K (Glassdoor Est.)</td>\n",
       "      <td>By clicking the Apply button, I understand tha...</td>\n",
       "      <td>3.7</td>\n",
       "      <td>Takeda\\n3.7</td>\n",
       "      <td>Cambridge, MA</td>\n",
       "      <td>OSAKA, Japan</td>\n",
       "      <td>10000+ employees</td>\n",
       "      <td>1781</td>\n",
       "      <td>Company - Public</td>\n",
       "      <td>...</td>\n",
       "      <td>84.5</td>\n",
       "      <td>Taked</td>\n",
       "      <td>MA</td>\n",
       "      <td>0</td>\n",
       "      <td>239</td>\n",
       "      <td>1</td>\n",
       "      <td>0</td>\n",
       "      <td>1</td>\n",
       "      <td>0</td>\n",
       "      <td>0</td>\n",
       "    </tr>\n",
       "    <tr>\n",
       "      <td>3</td>\n",
       "      <td>Data Scientist</td>\n",
       "      <td>$77K-$92K (Glassdoor Est.)</td>\n",
       "      <td>Join Our Growing Team\\nA career with A Place f...</td>\n",
       "      <td>3.0</td>\n",
       "      <td>A Place for Mom\\n3.0</td>\n",
       "      <td>Overland Park, KS</td>\n",
       "      <td>New York, NY</td>\n",
       "      <td>501 to 1000 employees</td>\n",
       "      <td>2000</td>\n",
       "      <td>Company - Private</td>\n",
       "      <td>...</td>\n",
       "      <td>84.5</td>\n",
       "      <td>A Place for Mo</td>\n",
       "      <td>KS</td>\n",
       "      <td>0</td>\n",
       "      <td>20</td>\n",
       "      <td>1</td>\n",
       "      <td>0</td>\n",
       "      <td>0</td>\n",
       "      <td>1</td>\n",
       "      <td>1</td>\n",
       "    </tr>\n",
       "    <tr>\n",
       "      <td>4</td>\n",
       "      <td>Data Scientist</td>\n",
       "      <td>$77K-$92K (Glassdoor Est.)</td>\n",
       "      <td>We are looking for Data Scientists who are int...</td>\n",
       "      <td>3.7</td>\n",
       "      <td>GovTech\\n3.7</td>\n",
       "      <td>San Francisco, CA</td>\n",
       "      <td>Singapore, Singapore</td>\n",
       "      <td>1001 to 5000 employees</td>\n",
       "      <td>2016</td>\n",
       "      <td>Government</td>\n",
       "      <td>...</td>\n",
       "      <td>84.5</td>\n",
       "      <td>GovTec</td>\n",
       "      <td>CA</td>\n",
       "      <td>0</td>\n",
       "      <td>4</td>\n",
       "      <td>1</td>\n",
       "      <td>0</td>\n",
       "      <td>0</td>\n",
       "      <td>0</td>\n",
       "      <td>1</td>\n",
       "    </tr>\n",
       "  </tbody>\n",
       "</table>\n",
       "<p>5 rows × 27 columns</p>\n",
       "</div>"
      ],
      "text/plain": [
       "        Job Title             Salary Estimate  \\\n",
       "0  Data Scientist  $77K-$92K (Glassdoor Est.)   \n",
       "1  Data Scientist  $77K-$92K (Glassdoor Est.)   \n",
       "2  Data Scientist  $77K-$92K (Glassdoor Est.)   \n",
       "3  Data Scientist  $77K-$92K (Glassdoor Est.)   \n",
       "4  Data Scientist  $77K-$92K (Glassdoor Est.)   \n",
       "\n",
       "                                     Job Description  Rating  \\\n",
       "0  Data Scientist\\nAffinity Solutions / Marketing...     2.9   \n",
       "1  Secure our Nation, Ignite your Future\\n\\nSumma...     4.1   \n",
       "2  By clicking the Apply button, I understand tha...     3.7   \n",
       "3  Join Our Growing Team\\nA career with A Place f...     3.0   \n",
       "4  We are looking for Data Scientists who are int...     3.7   \n",
       "\n",
       "              Company Name           Location          Headquarters  \\\n",
       "0  Affinity Solutions\\n2.9       New York, NY          New York, NY   \n",
       "1             ManTech\\n4.1      Chantilly, VA           Herndon, VA   \n",
       "2              Takeda\\n3.7      Cambridge, MA          OSAKA, Japan   \n",
       "3     A Place for Mom\\n3.0  Overland Park, KS          New York, NY   \n",
       "4             GovTech\\n3.7  San Francisco, CA  Singapore, Singapore   \n",
       "\n",
       "                      Size  Founded  Type of ownership  ... avg_salary  \\\n",
       "0      51 to 200 employees     1998  Company - Private  ...       84.5   \n",
       "1  5001 to 10000 employees     1968   Company - Public  ...       84.5   \n",
       "2         10000+ employees     1781   Company - Public  ...       84.5   \n",
       "3    501 to 1000 employees     2000  Company - Private  ...       84.5   \n",
       "4   1001 to 5000 employees     2016         Government  ...       84.5   \n",
       "\n",
       "        Company_text job_state same state  age  python_yn  r_yn  spark_yn  \\\n",
       "0  Affinity Solution        NY          1   22          1     0         0   \n",
       "1             ManTec        VA          0   52          0     0         0   \n",
       "2              Taked        MA          0  239          1     0         1   \n",
       "3     A Place for Mo        KS          0   20          1     0         0   \n",
       "4             GovTec        CA          0    4          1     0         0   \n",
       "\n",
       "  aws_yn excel_yn  \n",
       "0      0        1  \n",
       "1      0        0  \n",
       "2      0        0  \n",
       "3      1        1  \n",
       "4      0        1  \n",
       "\n",
       "[5 rows x 27 columns]"
      ]
     },
     "execution_count": 47,
     "metadata": {},
     "output_type": "execute_result"
    }
   ],
   "source": [
    "table.head()"
   ]
  },
  {
   "cell_type": "code",
   "execution_count": 29,
   "metadata": {},
   "outputs": [],
   "source": [
    "# Clean 'Company Name' for text only\n",
    "table['Company_text'] = table.apply(lambda x: x['Company Name'] if x['Rating']< 0. else x['Company Name'][:-5], axis=1)"
   ]
  },
  {
   "cell_type": "code",
   "execution_count": 37,
   "metadata": {},
   "outputs": [],
   "source": [
    "# State Field\n",
    "table['job_state'] = table['Location'].apply(lambda x: x.split(',')[1] if ',' in x.lower() else x)"
   ]
  },
  {
   "cell_type": "code",
   "execution_count": 39,
   "metadata": {},
   "outputs": [],
   "source": [
    "table['same state'] = table.apply(lambda x: 1 if x['Location'] == x['Headquarters'] else 0, axis = 1)"
   ]
  },
  {
   "cell_type": "code",
   "execution_count": 40,
   "metadata": {},
   "outputs": [],
   "source": [
    "# Age of company\n",
    "table['age'] = table['Founded'].apply(lambda x: x if x < 0 else 2020 - x) "
   ]
  },
  {
   "cell_type": "code",
   "execution_count": 42,
   "metadata": {},
   "outputs": [],
   "source": [
    "# Parsing of Job description\n",
    "#Python\n",
    "table['python_yn'] = table['Job Description'].apply(lambda x: 1 if 'python' in x.lower() else 0)"
   ]
  },
  {
   "cell_type": "code",
   "execution_count": 43,
   "metadata": {},
   "outputs": [],
   "source": [
    "#r studio\n",
    "table['r_yn'] = table['Job Description'].apply(lambda x: 1 if 'r studio' in x.lower() or 'r-studio' in x.lower() else 0)"
   ]
  },
  {
   "cell_type": "code",
   "execution_count": 44,
   "metadata": {},
   "outputs": [],
   "source": [
    "#spark\n",
    "table['spark_yn'] = table['Job Description'].apply(lambda x: 1 if 'spark' in x.lower() else 0)"
   ]
  },
  {
   "cell_type": "code",
   "execution_count": 45,
   "metadata": {},
   "outputs": [],
   "source": [
    "#aws\n",
    "table['aws_yn'] = table['Job Description'].apply(lambda x: 1 if 'aws' in x.lower() else 0)"
   ]
  },
  {
   "cell_type": "code",
   "execution_count": 46,
   "metadata": {},
   "outputs": [],
   "source": [
    "#excel\n",
    "table['excel_yn'] = table['Job Description'].apply(lambda x: 1 if 'excel' in x.lower() else 0)"
   ]
  },
  {
   "cell_type": "code",
   "execution_count": 48,
   "metadata": {},
   "outputs": [],
   "source": [
    "table.to_csv('jobs_data_cleaned.csv', index = False)"
   ]
  },
  {
   "cell_type": "code",
   "execution_count": null,
   "metadata": {},
   "outputs": [],
   "source": [
    "    "
   ]
  }
 ],
 "metadata": {
  "kernelspec": {
   "display_name": "Python 3",
   "language": "python",
   "name": "python3"
  },
  "language_info": {
   "codemirror_mode": {
    "name": "ipython",
    "version": 3
   },
   "file_extension": ".py",
   "mimetype": "text/x-python",
   "name": "python",
   "nbconvert_exporter": "python",
   "pygments_lexer": "ipython3",
   "version": "3.7.4"
  }
 },
 "nbformat": 4,
 "nbformat_minor": 2
}
